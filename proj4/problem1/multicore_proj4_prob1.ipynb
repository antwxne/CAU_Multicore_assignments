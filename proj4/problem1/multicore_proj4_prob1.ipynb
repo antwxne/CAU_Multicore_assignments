{
  "nbformat": 4,
  "nbformat_minor": 0,
  "metadata": {
    "colab": {
      "provenance": [],
      "gpuType": "T4"
    },
    "kernelspec": {
      "name": "python3",
      "display_name": "Python 3"
    },
    "language_info": {
      "name": "python"
    },
    "accelerator": "GPU"
  },
  "cells": [
    {
      "cell_type": "code",
      "execution_count": null,
      "metadata": {
        "colab": {
          "base_uri": "https://localhost:8080/"
        },
        "id": "00kL1VL4rixM",
        "outputId": "39368422-f1ad-4c53-cb5e-aec3ba7cab5e"
      },
      "outputs": [
        {
          "output_type": "stream",
          "name": "stdout",
          "text": [
            "Overwriting test_cuda.cu\n"
          ]
        }
      ],
      "source": [
        "%%writefile test_cuda.cu\n",
        "#include <stdio.h>\n",
        "#include <string.h>\n",
        "#include <stdlib.h>\n",
        "#include <time.h>\n",
        "#include <math.h>\n",
        "\n",
        "#define SPHERES 20\n",
        "\n",
        "#define rnd(x) (x * rand() / RAND_MAX)\n",
        "#define INF 2e10f\n",
        "#define DIM 2048\n",
        "\n",
        "struct Sphere\n",
        "{\n",
        "    float r, b, g;\n",
        "    float radius;\n",
        "    float x, y, z;\n",
        "    __device__ float hit(float ox, float oy, float *n)\n",
        "    {\n",
        "        float dx = ox - x;\n",
        "        float dy = oy - y;\n",
        "        if (dx * dx + dy * dy < radius * radius)\n",
        "        {\n",
        "            float dz = sqrtf(radius * radius - dx * dx - dy * dy);\n",
        "            *n = dz / sqrtf(radius * radius);\n",
        "            return dz + z;\n",
        "        }\n",
        "        return -INF;\n",
        "    }\n",
        "};\n",
        "\n",
        "__global__ void kernel(Sphere *s, unsigned char *ptr)\n",
        "{\n",
        "    int x = blockIdx.x * blockDim.x + threadIdx.x;\n",
        "    int y = blockIdx.y * blockDim.y + threadIdx.y;\n",
        "    int offset = x + y * DIM;\n",
        "    float ox = (x - DIM / 2);\n",
        "    float oy = (y - DIM / 2);\n",
        "\n",
        "    float r = 0, g = 0, b = 0;\n",
        "    float maxz = -INF;\n",
        "    for (int i = 0; i < SPHERES; i++)\n",
        "    {\n",
        "        float n;\n",
        "        float t = s[i].hit(ox, oy, &n);\n",
        "        if (t > maxz)\n",
        "        {\n",
        "            float fscale = n;\n",
        "            r = s[i].r * fscale;\n",
        "            g = s[i].g * fscale;\n",
        "            b = s[i].b * fscale;\n",
        "            maxz = t;\n",
        "        }\n",
        "    }\n",
        "\n",
        "    ptr[offset * 4 + 0] = (int)(r * 255);\n",
        "    ptr[offset * 4 + 1] = (int)(g * 255);\n",
        "    ptr[offset * 4 + 2] = (int)(b * 255);\n",
        "    ptr[offset * 4 + 3] = 255;\n",
        "}\n",
        "\n",
        "void ppm_write(unsigned char *bitmap, int xdim, int ydim, FILE *fp)\n",
        "{\n",
        "    int i, x, y;\n",
        "    fprintf(fp, \"P3\\n\");\n",
        "    fprintf(fp, \"%d %d\\n\", xdim, ydim);\n",
        "    fprintf(fp, \"255\\n\");\n",
        "    for (y = 0; y < ydim; y++)\n",
        "    {\n",
        "        for (x = 0; x < xdim; x++)\n",
        "        {\n",
        "            i = x + y * xdim;\n",
        "            fprintf(fp, \"%d %d %d \", bitmap[4 * i], bitmap[4 * i + 1], bitmap[4 * i + 2]);\n",
        "        }\n",
        "        fprintf(fp, \"\\n\");\n",
        "    }\n",
        "}\n",
        "\n",
        "int main(int argc, char *argv[])\n",
        "{\n",
        "    unsigned char *bitmap;\n",
        "    const char *filename = \"result.ppm\";\n",
        "    FILE *fp = fopen(filename, \"w\");\n",
        "    Sphere *temp_s = (Sphere *)malloc(sizeof(Sphere) * SPHERES);\n",
        "    Sphere *d_s;\n",
        "    unsigned char *device_bitmap;\n",
        "    cudaEvent_t start;\n",
        "    cudaEvent_t end;\n",
        "    float elapsedTime;\n",
        "\n",
        "    cudaEventCreate(&start);\n",
        "    cudaEventCreate(&end);\n",
        "    srand(time(NULL));\n",
        "    for (int i = 0; i < SPHERES; i++)\n",
        "    {\n",
        "        temp_s[i].r = rnd(1.0f);\n",
        "        temp_s[i].g = rnd(1.0f);\n",
        "        temp_s[i].b = rnd(1.0f);\n",
        "        temp_s[i].x = rnd(2000.0f) - 1000;\n",
        "        temp_s[i].y = rnd(2000.0f) - 1000;\n",
        "        temp_s[i].z = rnd(2000.0f) - 1000;\n",
        "        temp_s[i].radius = rnd(200.0f) + 40;\n",
        "    }\n",
        "    cudaMalloc((void **)&d_s, sizeof(Sphere) * SPHERES);\n",
        "    cudaMalloc((void **)&device_bitmap, sizeof(unsigned char) * DIM * DIM * 4);\n",
        "    cudaMemcpy(d_s, temp_s, sizeof(Sphere) * SPHERES, cudaMemcpyHostToDevice);\n",
        "    cudaEventRecord(start);\n",
        "    kernel<<<dim3((DIM + 15) / 16, (DIM + 15) / 16), dim3(16, 16)>>>(d_s, device_bitmap);\n",
        "    cudaEventRecord(end);\n",
        "    cudaEventSynchronize(end);\n",
        "    cudaEventElapsedTime(&elapsedTime, start, end);\n",
        "    bitmap = (unsigned char *)malloc(sizeof(unsigned char) * DIM * DIM * 4);\n",
        "    cudaMemcpy(bitmap, device_bitmap, sizeof(unsigned char) * DIM * DIM * 4, cudaMemcpyDeviceToHost);\n",
        "    printf(\"CUDA ray tracing: %.3lf sec\\n\", elapsedTime / 1000);\n",
        "    ppm_write(bitmap, DIM, DIM, fp);\n",
        "    printf(\"[%s] was generated.\", filename);\n",
        "    fclose(fp);\n",
        "    free(bitmap);\n",
        "    free(temp_s);\n",
        "    cudaFree(d_s);\n",
        "    cudaEventDestroy(start);\n",
        "    cudaEventDestroy(end);\n",
        "    cudaFree(device_bitmap);\n",
        "    return 0;\n",
        "}\n",
        "\n"
      ]
    },
    {
      "cell_type": "code",
      "source": [
        "!nvcc test_cuda.cu -o cuda_ray"
      ],
      "metadata": {
        "id": "0m0rx6tosSHE"
      },
      "execution_count": null,
      "outputs": []
    },
    {
      "cell_type": "code",
      "source": [
        "!./cuda_ray"
      ],
      "metadata": {
        "id": "8UAoSpiAsYQ2",
        "colab": {
          "base_uri": "https://localhost:8080/"
        },
        "outputId": "99006208-80ed-4154-bf5b-3a6b0c63fa4d"
      },
      "execution_count": null,
      "outputs": [
        {
          "output_type": "stream",
          "name": "stdout",
          "text": [
            "CUDA ray tracing: 0.001 sec\n",
            "[result.ppm] was generated."
          ]
        }
      ]
    }
  ]
}