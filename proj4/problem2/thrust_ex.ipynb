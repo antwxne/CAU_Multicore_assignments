{
  "nbformat": 4,
  "nbformat_minor": 0,
  "metadata": {
    "colab": {
      "provenance": [],
      "gpuType": "T4"
    },
    "kernelspec": {
      "name": "python3",
      "display_name": "Python 3"
    },
    "language_info": {
      "name": "python"
    },
    "accelerator": "GPU"
  },
  "cells": [
    {
      "cell_type": "code",
      "execution_count": 1,
      "metadata": {
        "colab": {
          "base_uri": "https://localhost:8080/"
        },
        "id": "rgP5dJjAzbPj",
        "outputId": "63b13c00-c426-4110-e08f-ab915b7dd670"
      },
      "outputs": [
        {
          "output_type": "stream",
          "name": "stdout",
          "text": [
            "Writing thrust_ex.cu\n"
          ]
        }
      ],
      "source": [
        "%%writefile thrust_ex.cu\n",
        "#include <stdio.h>\n",
        "#include <chrono>\n",
        "#include <thrust/host_vector.h>\n",
        "#include <thrust/device_vector.h>\n",
        "\n",
        "#include <thrust/copy.h>\n",
        "#include <thrust/fill.h>\n",
        "\n",
        "const long num_steps = 1000000000;\n",
        "\n",
        "struct pi_fct\n",
        "{\n",
        "    const double step;\n",
        "    pi_fct(double _step) : step(_step) {}\n",
        "\n",
        "    __host__ __device__ double operator()(const long i) const\n",
        "    {\n",
        "        double x = (i + 0.5) * step;\n",
        "        return 4.0 / (1.0 + x * x);\n",
        "    }\n",
        "};\n",
        "\n",
        "int main(void)\n",
        "{\n",
        "    double pi = 0.0;\n",
        "    double sum = 0.0;\n",
        "    double step = 1.0 / (double)num_steps;\n",
        "    double timeDiff;\n",
        "\n",
        "    thrust::device_vector<int> numbers(num_steps);\n",
        "    thrust::sequence(numbers.begin(), numbers.end());\n",
        "    auto start = std::chrono::steady_clock::now();\n",
        "    sum = thrust::transform_reduce(numbers.begin(), numbers.end(), pi_fct(step), 0, thrust::plus<float>());\n",
        "    pi = step * sum;\n",
        "    auto end = std::chrono::steady_clock::now();\n",
        "    timeDiff = std::chrono::duration<double>(end - start).count();\n",
        "    printf(\"Execution Time : %.10lfsec\\n\", timeDiff);\n",
        "    printf(\"pi=%.10lf\\n\", pi);\n",
        "    return 0;\n",
        "}"
      ]
    },
    {
      "cell_type": "code",
      "source": [
        "!nvcc thrust_ex.cu -o thrust_ex"
      ],
      "metadata": {
        "id": "5Wp2W96Mzeki"
      },
      "execution_count": 2,
      "outputs": []
    },
    {
      "cell_type": "code",
      "source": [
        "!./thrust_ex"
      ],
      "metadata": {
        "colab": {
          "base_uri": "https://localhost:8080/"
        },
        "id": "8PaxYm6rZtuL",
        "outputId": "974f8166-d5fa-4717-bc0b-2717e247168b"
      },
      "execution_count": 3,
      "outputs": [
        {
          "output_type": "stream",
          "name": "stdout",
          "text": [
            "Execution Time : 0.2665910650sec\n",
            "pi=2.1474836470\n"
          ]
        }
      ]
    }
  ]
}